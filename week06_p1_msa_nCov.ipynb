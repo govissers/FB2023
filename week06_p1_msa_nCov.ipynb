{
 "cells": [
  {
   "cell_type": "markdown",
   "metadata": {},
   "source": [
    "## Multiple Alignment and Phylogenetic trees¶\n"
   ]
  },
  {
   "cell_type": "markdown",
   "metadata": {},
   "source": [
    "### Getting started\n",
    "\n",
    "1. Enter the \"my_notebooks\" folder and create a new folder \"week06\".  \n",
    "2. In the \"my_notebooks/week05\" folder, open a notebook from this URL https://raw.githubusercontent.com/hlab1/teaching-fb2023/main/week06/week06_p1_msa_nCov.ipynb.\n",
    "3. Clear all outputs by \"Kernel\"->\"Restart Kernel and Clear All Outputs\"."
   ]
  },
  {
   "cell_type": "markdown",
   "metadata": {},
   "source": [
    "### Reading a multiple alignment file into R\n",
    "\n",
    "In the recitation last week, we performed MSA of the coding sequences and amino acid sequences  of coronavirus spike protein.  We provide the MAFFT results of those two MSA in \"spike_nt_mafft.fasta\" and \"spike_aa_mafft.fasta\" files. Upload those two files to the \"my_notebooks/week06\" folder you just created.\n",
    "\n",
    "spike_nt_mafft.fasta - https://raw.githubusercontent.com/hlab1/teaching-fb2023/main/week06/spike_aa_mafft.fasta\n",
    "\n",
    "spike_aa_mafft.fasta - https://raw.githubusercontent.com/hlab1/teaching-fb2023/main/week06/spike_nt_mafft.fasta\n",
    "\n",
    "**Make sure these two files are ending in `.fasta` but not `.fasta.txt`!**\n",
    "\n",
    "Now we can load the MSA results into R using the `readAAMultipleAlignment` function in the `Biostrings` package."
   ]
  },
  {
   "cell_type": "code",
   "execution_count": null,
   "metadata": {},
   "outputs": [],
   "source": [
    "library(\"Biostrings\")"
   ]
  },
  {
   "cell_type": "code",
   "execution_count": null,
   "metadata": {},
   "outputs": [],
   "source": [
    "aa_aln <- readAAMultipleAlignment(filepath=\"spike_aa_mafft.fasta\", format=\"fasta\")"
   ]
  },
  {
   "cell_type": "markdown",
   "metadata": {},
   "source": [
    "What does readAAMultipleAlignment do?"
   ]
  },
  {
   "cell_type": "code",
   "execution_count": null,
   "metadata": {},
   "outputs": [],
   "source": [
    "# Write code below to investigate readAAMultipleAlignment\n"
   ]
  },
  {
   "cell_type": "markdown",
   "metadata": {},
   "source": [
    "What is in the variable `aa_aln`?"
   ]
  },
  {
   "cell_type": "code",
   "execution_count": null,
   "metadata": {},
   "outputs": [],
   "source": [
    "# Write code below to investigate aa_aln. First call aa_aln to see what it looks like, then\n",
    "# use functions defined in the documentation to answer the below questions.\n",
    "\n",
    "\n",
    "# How many sequences are aligned?\n",
    "\n",
    "\n",
    "# How many amino acids are in each alignment?\n"
   ]
  },
  {
   "cell_type": "markdown",
   "metadata": {},
   "source": [
    "## Building phylogenetic trees for protein sequences¶"
   ]
  },
  {
   "cell_type": "markdown",
   "metadata": {},
   "source": [
    "We first need to calculate the distance matrix resulting from this alignment. We will use the functions in the \"ape\" package for this purpose.\n",
    "\n",
    "First we convert our `aa_aln` object to a \"AAbin\" format, then use the `dist.aa` function to create a distance matrix."
   ]
  },
  {
   "cell_type": "code",
   "execution_count": null,
   "metadata": {},
   "outputs": [],
   "source": [
    "library(\"ape\")\n",
    "aa_bin <- as.AAbin(aa_aln) # Convert the alignment to \"AAbin\" format"
   ]
  },
  {
   "cell_type": "code",
   "execution_count": null,
   "metadata": {},
   "outputs": [],
   "source": [
    "aa_dist <- dist.aa(aa_bin) # Calculate the genetic distance matrix\n",
    "as.matrix(aa_dist)"
   ]
  },
  {
   "cell_type": "markdown",
   "metadata": {},
   "source": [
    "The `nj` function creates a tree from a distance matrix using the Neighbor Joining method.  We can `plot` the tree in multiple ways."
   ]
  },
  {
   "cell_type": "code",
   "execution_count": null,
   "metadata": {},
   "outputs": [],
   "source": [
    "aa_tree <- nj(aa_dist)"
   ]
  },
  {
   "cell_type": "code",
   "execution_count": null,
   "metadata": {},
   "outputs": [],
   "source": [
    "# What does aa_tree look like?\n",
    "\n",
    "\n",
    "# What is its type, what is its class?\n",
    "\n",
    "\n"
   ]
  },
  {
   "cell_type": "code",
   "execution_count": null,
   "metadata": {},
   "outputs": [],
   "source": [
    "plot(aa_tree,'unrooted', use.edge.length=FALSE,cex=0.5,\n",
    "     main=\"Unrooted, without branch lengths\")"
   ]
  },
  {
   "cell_type": "code",
   "execution_count": null,
   "metadata": {},
   "outputs": [],
   "source": [
    "# 'plot'is the base R plotting function, but this version of 'plot'recognizes the \n",
    "# phylo class and calls 'plot.phylo'instead. Look up plot.phylo and see what kind of options\n",
    "# you can manipulate.\n",
    "\n"
   ]
  },
  {
   "cell_type": "code",
   "execution_count": null,
   "metadata": {},
   "outputs": [],
   "source": [
    "# Using aa_tree, plot a rooted claodogram that does not use edge length, with a text size of 0.5,\n",
    "# title of \"Cladogram, without branch lengths\", and is pointed rightward\n"
   ]
  },
  {
   "cell_type": "markdown",
   "metadata": {},
   "source": [
    "Based on the spike protein sequqnce, which SARS coronavirus is the closest to the 2019-nCov isolates?\n",
    "\n",
    "We can write this tree to a file in the Newick format."
   ]
  },
  {
   "cell_type": "code",
   "execution_count": null,
   "metadata": {},
   "outputs": [],
   "source": [
    "write.tree(aa_tree,\"spike_aa_tree.tre\")"
   ]
  },
  {
   "cell_type": "markdown",
   "metadata": {},
   "source": [
    "## Bootstrapping\n",
    "\n",
    "The `read.alignment` function in the \"seqinr\" package creates an alignment object that can be used in the `unrootedNJtree` and `rootedNJtree` function to create a bootstrap tree. \n",
    "\n",
    "\n",
    "The `unrootedNJtree` function accepts the alignment and the type of the alignment (\"DNA\" or \"protein\")."
   ]
  },
  {
   "cell_type": "code",
   "execution_count": null,
   "metadata": {},
   "outputs": [],
   "source": [
    "library(\"seqinr\")\n",
    "aa_aln2  <- read.alignment(file = \"spike_aa_mafft.fasta\", format = \"fasta\")"
   ]
  },
  {
   "cell_type": "code",
   "execution_count": null,
   "metadata": {},
   "outputs": [],
   "source": [
    "unrootedNJtree <- function(alignment,type) {\n",
    "     # this function requires the ape and seqinR packages:\n",
    "     require(\"ape\")\n",
    "     require(\"seqinr\")\n",
    "     # define a function for making a tree:\n",
    "     makemytree <- function(alignmentmat)\n",
    "     {\n",
    "        alignment <- ape::as.alignment(alignmentmat)\n",
    "        if      (type == \"protein\")\n",
    "        {\n",
    "           mydist <- dist.alignment(alignment)\n",
    "        }\n",
    "        else if (type == \"DNA\")\n",
    "        {\n",
    "           alignmentbin <- as.DNAbin(alignment)\n",
    "           mydist <- dist.dna(alignmentbin)\n",
    "        }\n",
    "        mytree <- nj(mydist)\n",
    "        mytree <- makeLabel(mytree, space=\"\") # get rid of spaces in tip names.\n",
    "        return(mytree)\n",
    "     }\n",
    "     # infer a tree\n",
    "     mymat  <- as.matrix.alignment(alignment)\n",
    "     mytree <- makemytree(mymat)\n",
    "     # bootstrap the tree\n",
    "     myboot <- boot.phylo(mytree, mymat, makemytree)\n",
    "     # plot the tree:\n",
    "     plot.phylo(mytree,type=\"u\")   # plot the unrooted phylogenetic tree\n",
    "     nodelabels(myboot,cex=0.7)    # plot the bootstrap values\n",
    "     mytree$node.label <- myboot   # make the bootstrap values be the node labels\n",
    "     return(mytree)\n",
    "  }"
   ]
  },
  {
   "cell_type": "code",
   "execution_count": null,
   "metadata": {},
   "outputs": [],
   "source": [
    "aa_nj_boot1 <- unrootedNJtree(aa_aln2,type=\"protein\")"
   ]
  },
  {
   "cell_type": "markdown",
   "metadata": {},
   "source": [
    "The `rootedNJtree` function accepts the alignment, a sequence in the alignment that is used as an \"outgroup\" to root the tree, and the type of the alignment (\"DNA\" or \"protein\")."
   ]
  },
  {
   "cell_type": "code",
   "execution_count": null,
   "metadata": {},
   "outputs": [],
   "source": [
    "rootedNJtree <- function(alignment, theoutgroup, type) {\n",
    "     # load the ape and seqinR packages:\n",
    "     require(\"ape\")\n",
    "     require(\"seqinr\")\n",
    "     # define a function for making a tree:\n",
    "     makemytree <- function(alignmentmat, outgroup=`theoutgroup`)\n",
    "     {\n",
    "        alignment <- ape::as.alignment(alignmentmat)\n",
    "        if      (type == \"protein\")\n",
    "        {\n",
    "           mydist <- dist.alignment(alignment)\n",
    "        }\n",
    "        else if (type == \"DNA\")\n",
    "        {\n",
    "           alignmentbin <- as.DNAbin(alignment)\n",
    "           mydist <- dist.dna(alignmentbin)\n",
    "        }\n",
    "        mytree <- nj(mydist)\n",
    "        mytree <- makeLabel(mytree, space=\"\") # get rid of spaces in tip names.\n",
    "        myrootedtree <- root(mytree, outgroup, r=TRUE)\n",
    "        return(myrootedtree)\n",
    "     }\n",
    "     # infer a tree\n",
    "     mymat  <- as.matrix.alignment(alignment)\n",
    "     myrootedtree <- makemytree(mymat, outgroup=theoutgroup)\n",
    "     # bootstrap the tree\n",
    "     myboot <- boot.phylo(myrootedtree, mymat, makemytree)\n",
    "     # plot the tree:\n",
    "     plot.phylo(myrootedtree, type=\"p\")  # plot the rooted phylogenetic tree\n",
    "     nodelabels(myboot,cex=0.7)          # plot the bootstrap values\n",
    "     myrootedtree$node.label <- myboot   # make the bootstrap values be the node labels\n",
    "     return(myrootedtree)\n",
    "  }"
   ]
  },
  {
   "cell_type": "code",
   "execution_count": null,
   "metadata": {},
   "outputs": [],
   "source": [
    "aa_nj_boot <- rootedNJtree(aa_aln2,\"AY687361.1_SARS_coronavirus_B029_1\",type=\"protein\")"
   ]
  },
  {
   "cell_type": "markdown",
   "metadata": {},
   "source": [
    "### Exercises\n",
    "\n",
    "1. Try to draw a NJ tree with a different sequence as the outgroup. \n",
    "2. Read the DNA sequence alignment in the `spike_nt_mafft.fasta` file and create an unrooted and a rooted tree.  Compare the trees to the trees from the protein sequnce alignments."
   ]
  },
  {
   "cell_type": "code",
   "execution_count": null,
   "metadata": {},
   "outputs": [],
   "source": []
  }
 ],
 "metadata": {
  "kernelspec": {
   "display_name": "R [conda env:r_4.1]",
   "language": "R",
   "name": "conda-env-r_4.1-r"
  },
  "language_info": {
   "codemirror_mode": "r",
   "file_extension": ".r",
   "mimetype": "text/x-r-source",
   "name": "R",
   "pygments_lexer": "r",
   "version": "4.1.3"
  }
 },
 "nbformat": 4,
 "nbformat_minor": 4
}
